{
 "cells": [
  {
   "cell_type": "code",
   "execution_count": 1,
   "id": "96a25e90",
   "metadata": {
    "_cell_guid": "b1076dfc-b9ad-4769-8c92-a6c4dae69d19",
    "_uuid": "8f2839f25d086af736a60e9eeb907d3b93b6e0e5",
    "execution": {
     "iopub.execute_input": "2022-05-23T05:48:14.642831Z",
     "iopub.status.busy": "2022-05-23T05:48:14.642357Z",
     "iopub.status.idle": "2022-05-23T05:48:15.983462Z",
     "shell.execute_reply": "2022-05-23T05:48:15.982255Z"
    },
    "papermill": {
     "duration": 1.36795,
     "end_time": "2022-05-23T05:48:15.985748",
     "exception": false,
     "start_time": "2022-05-23T05:48:14.617798",
     "status": "completed"
    },
    "tags": []
   },
   "outputs": [
    {
     "name": "stdout",
     "output_type": "stream",
     "text": [
      "/kaggle/input/international-football-results-from-1872-to-2017/shootouts.csv\n",
      "/kaggle/input/international-football-results-from-1872-to-2017/results.csv\n"
     ]
    }
   ],
   "source": [
    "# loading libraries\n",
    "import numpy as np # linear algebra\n",
    "import pandas as pd # data processing, CSV file I/O (e.g. pd.read_csv)\n",
    "\n",
    "import math\n",
    "import matplotlib.pyplot as plt\n",
    "%matplotlib inline\n",
    "\n",
    "import seaborn as sns\n",
    "import missingno as msno\n",
    "\n",
    "from sklearn.preprocessing import StandardScaler\n",
    "from scipy import stats\n",
    "\n",
    "import os\n",
    "for dirname, _, filenames in os.walk('/kaggle/input'):\n",
    "    for filename in filenames:\n",
    "        print(os.path.join(dirname, filename))"
   ]
  },
  {
   "cell_type": "code",
   "execution_count": 2,
   "id": "14c9834a",
   "metadata": {
    "execution": {
     "iopub.execute_input": "2022-05-23T05:48:16.033596Z",
     "iopub.status.busy": "2022-05-23T05:48:16.032807Z",
     "iopub.status.idle": "2022-05-23T05:48:16.200634Z",
     "shell.execute_reply": "2022-05-23T05:48:16.199587Z"
    },
    "papermill": {
     "duration": 0.193516,
     "end_time": "2022-05-23T05:48:16.202743",
     "exception": false,
     "start_time": "2022-05-23T05:48:16.009227",
     "status": "completed"
    },
    "tags": []
   },
   "outputs": [
    {
     "data": {
      "text/html": [
       "<div>\n",
       "<style scoped>\n",
       "    .dataframe tbody tr th:only-of-type {\n",
       "        vertical-align: middle;\n",
       "    }\n",
       "\n",
       "    .dataframe tbody tr th {\n",
       "        vertical-align: top;\n",
       "    }\n",
       "\n",
       "    .dataframe thead th {\n",
       "        text-align: right;\n",
       "    }\n",
       "</style>\n",
       "<table border=\"1\" class=\"dataframe\">\n",
       "  <thead>\n",
       "    <tr style=\"text-align: right;\">\n",
       "      <th></th>\n",
       "      <th>date</th>\n",
       "      <th>home_team</th>\n",
       "      <th>away_team</th>\n",
       "      <th>home_score</th>\n",
       "      <th>away_score</th>\n",
       "      <th>tournament</th>\n",
       "      <th>city</th>\n",
       "      <th>country</th>\n",
       "      <th>neutral</th>\n",
       "    </tr>\n",
       "  </thead>\n",
       "  <tbody>\n",
       "    <tr>\n",
       "      <th>0</th>\n",
       "      <td>1872-11-30</td>\n",
       "      <td>Scotland</td>\n",
       "      <td>England</td>\n",
       "      <td>0</td>\n",
       "      <td>0</td>\n",
       "      <td>Friendly</td>\n",
       "      <td>Glasgow</td>\n",
       "      <td>Scotland</td>\n",
       "      <td>False</td>\n",
       "    </tr>\n",
       "    <tr>\n",
       "      <th>1</th>\n",
       "      <td>1873-03-08</td>\n",
       "      <td>England</td>\n",
       "      <td>Scotland</td>\n",
       "      <td>4</td>\n",
       "      <td>2</td>\n",
       "      <td>Friendly</td>\n",
       "      <td>London</td>\n",
       "      <td>England</td>\n",
       "      <td>False</td>\n",
       "    </tr>\n",
       "    <tr>\n",
       "      <th>2</th>\n",
       "      <td>1874-03-07</td>\n",
       "      <td>Scotland</td>\n",
       "      <td>England</td>\n",
       "      <td>2</td>\n",
       "      <td>1</td>\n",
       "      <td>Friendly</td>\n",
       "      <td>Glasgow</td>\n",
       "      <td>Scotland</td>\n",
       "      <td>False</td>\n",
       "    </tr>\n",
       "    <tr>\n",
       "      <th>3</th>\n",
       "      <td>1875-03-06</td>\n",
       "      <td>England</td>\n",
       "      <td>Scotland</td>\n",
       "      <td>2</td>\n",
       "      <td>2</td>\n",
       "      <td>Friendly</td>\n",
       "      <td>London</td>\n",
       "      <td>England</td>\n",
       "      <td>False</td>\n",
       "    </tr>\n",
       "    <tr>\n",
       "      <th>4</th>\n",
       "      <td>1876-03-04</td>\n",
       "      <td>Scotland</td>\n",
       "      <td>England</td>\n",
       "      <td>3</td>\n",
       "      <td>0</td>\n",
       "      <td>Friendly</td>\n",
       "      <td>Glasgow</td>\n",
       "      <td>Scotland</td>\n",
       "      <td>False</td>\n",
       "    </tr>\n",
       "  </tbody>\n",
       "</table>\n",
       "</div>"
      ],
      "text/plain": [
       "         date home_team away_team  home_score  away_score tournament     city  \\\n",
       "0  1872-11-30  Scotland   England           0           0   Friendly  Glasgow   \n",
       "1  1873-03-08   England  Scotland           4           2   Friendly   London   \n",
       "2  1874-03-07  Scotland   England           2           1   Friendly  Glasgow   \n",
       "3  1875-03-06   England  Scotland           2           2   Friendly   London   \n",
       "4  1876-03-04  Scotland   England           3           0   Friendly  Glasgow   \n",
       "\n",
       "    country  neutral  \n",
       "0  Scotland    False  \n",
       "1   England    False  \n",
       "2  Scotland    False  \n",
       "3   England    False  \n",
       "4  Scotland    False  "
      ]
     },
     "execution_count": 2,
     "metadata": {},
     "output_type": "execute_result"
    }
   ],
   "source": [
    "data = pd.read_csv('/kaggle/input/international-football-results-from-1872-to-2017/results.csv')\n",
    "data.head()"
   ]
  },
  {
   "cell_type": "code",
   "execution_count": 3,
   "id": "6f2e251f",
   "metadata": {
    "execution": {
     "iopub.execute_input": "2022-05-23T05:48:16.249870Z",
     "iopub.status.busy": "2022-05-23T05:48:16.249178Z",
     "iopub.status.idle": "2022-05-23T05:48:16.273285Z",
     "shell.execute_reply": "2022-05-23T05:48:16.272388Z"
    },
    "papermill": {
     "duration": 0.050144,
     "end_time": "2022-05-23T05:48:16.275592",
     "exception": false,
     "start_time": "2022-05-23T05:48:16.225448",
     "status": "completed"
    },
    "tags": []
   },
   "outputs": [],
   "source": [
    "# deleting all data before the first World Cup, hence before 1930\n",
    "drop_row_index = data[data['date'] < '1930-07-13'].index\n",
    "data = data.drop(drop_row_index)"
   ]
  },
  {
   "cell_type": "code",
   "execution_count": 4,
   "id": "8592cbc8",
   "metadata": {
    "execution": {
     "iopub.execute_input": "2022-05-23T05:48:16.321463Z",
     "iopub.status.busy": "2022-05-23T05:48:16.321204Z",
     "iopub.status.idle": "2022-05-23T05:48:16.326104Z",
     "shell.execute_reply": "2022-05-23T05:48:16.325528Z"
    },
    "papermill": {
     "duration": 0.030389,
     "end_time": "2022-05-23T05:48:16.328232",
     "exception": false,
     "start_time": "2022-05-23T05:48:16.297843",
     "status": "completed"
    },
    "tags": []
   },
   "outputs": [
    {
     "data": {
      "text/plain": [
       "(42107, 9)"
      ]
     },
     "execution_count": 4,
     "metadata": {},
     "output_type": "execute_result"
    }
   ],
   "source": [
    "data.shape"
   ]
  },
  {
   "cell_type": "code",
   "execution_count": 5,
   "id": "0322cba6",
   "metadata": {
    "execution": {
     "iopub.execute_input": "2022-05-23T05:48:16.375148Z",
     "iopub.status.busy": "2022-05-23T05:48:16.374826Z",
     "iopub.status.idle": "2022-05-23T05:48:16.422256Z",
     "shell.execute_reply": "2022-05-23T05:48:16.420999Z"
    },
    "papermill": {
     "duration": 0.074419,
     "end_time": "2022-05-23T05:48:16.425128",
     "exception": false,
     "start_time": "2022-05-23T05:48:16.350709",
     "status": "completed"
    },
    "tags": []
   },
   "outputs": [
    {
     "name": "stdout",
     "output_type": "stream",
     "text": [
      "<class 'pandas.core.frame.DataFrame'>\n",
      "Int64Index: 42107 entries, 1314 to 43420\n",
      "Data columns (total 9 columns):\n",
      " #   Column      Non-Null Count  Dtype \n",
      "---  ------      --------------  ----- \n",
      " 0   date        42107 non-null  object\n",
      " 1   home_team   42107 non-null  object\n",
      " 2   away_team   42107 non-null  object\n",
      " 3   home_score  42107 non-null  int64 \n",
      " 4   away_score  42107 non-null  int64 \n",
      " 5   tournament  42107 non-null  object\n",
      " 6   city        42107 non-null  object\n",
      " 7   country     42107 non-null  object\n",
      " 8   neutral     42107 non-null  bool  \n",
      "dtypes: bool(1), int64(2), object(6)\n",
      "memory usage: 2.9+ MB\n"
     ]
    }
   ],
   "source": [
    "data.info()"
   ]
  },
  {
   "cell_type": "code",
   "execution_count": 6,
   "id": "18537153",
   "metadata": {
    "execution": {
     "iopub.execute_input": "2022-05-23T05:48:16.473254Z",
     "iopub.status.busy": "2022-05-23T05:48:16.472956Z",
     "iopub.status.idle": "2022-05-23T05:48:16.496837Z",
     "shell.execute_reply": "2022-05-23T05:48:16.495858Z"
    },
    "papermill": {
     "duration": 0.04991,
     "end_time": "2022-05-23T05:48:16.499085",
     "exception": false,
     "start_time": "2022-05-23T05:48:16.449175",
     "status": "completed"
    },
    "tags": []
   },
   "outputs": [
    {
     "data": {
      "text/html": [
       "<div>\n",
       "<style scoped>\n",
       "    .dataframe tbody tr th:only-of-type {\n",
       "        vertical-align: middle;\n",
       "    }\n",
       "\n",
       "    .dataframe tbody tr th {\n",
       "        vertical-align: top;\n",
       "    }\n",
       "\n",
       "    .dataframe thead th {\n",
       "        text-align: right;\n",
       "    }\n",
       "</style>\n",
       "<table border=\"1\" class=\"dataframe\">\n",
       "  <thead>\n",
       "    <tr style=\"text-align: right;\">\n",
       "      <th></th>\n",
       "      <th>home_score</th>\n",
       "      <th>away_score</th>\n",
       "    </tr>\n",
       "  </thead>\n",
       "  <tbody>\n",
       "    <tr>\n",
       "      <th>count</th>\n",
       "      <td>42107.000000</td>\n",
       "      <td>42107.000000</td>\n",
       "    </tr>\n",
       "    <tr>\n",
       "      <th>mean</th>\n",
       "      <td>1.723585</td>\n",
       "      <td>1.163892</td>\n",
       "    </tr>\n",
       "    <tr>\n",
       "      <th>std</th>\n",
       "      <td>1.739261</td>\n",
       "      <td>1.381886</td>\n",
       "    </tr>\n",
       "    <tr>\n",
       "      <th>min</th>\n",
       "      <td>0.000000</td>\n",
       "      <td>0.000000</td>\n",
       "    </tr>\n",
       "    <tr>\n",
       "      <th>25%</th>\n",
       "      <td>1.000000</td>\n",
       "      <td>0.000000</td>\n",
       "    </tr>\n",
       "    <tr>\n",
       "      <th>50%</th>\n",
       "      <td>1.000000</td>\n",
       "      <td>1.000000</td>\n",
       "    </tr>\n",
       "    <tr>\n",
       "      <th>75%</th>\n",
       "      <td>2.000000</td>\n",
       "      <td>2.000000</td>\n",
       "    </tr>\n",
       "    <tr>\n",
       "      <th>max</th>\n",
       "      <td>31.000000</td>\n",
       "      <td>21.000000</td>\n",
       "    </tr>\n",
       "  </tbody>\n",
       "</table>\n",
       "</div>"
      ],
      "text/plain": [
       "         home_score    away_score\n",
       "count  42107.000000  42107.000000\n",
       "mean       1.723585      1.163892\n",
       "std        1.739261      1.381886\n",
       "min        0.000000      0.000000\n",
       "25%        1.000000      0.000000\n",
       "50%        1.000000      1.000000\n",
       "75%        2.000000      2.000000\n",
       "max       31.000000     21.000000"
      ]
     },
     "execution_count": 6,
     "metadata": {},
     "output_type": "execute_result"
    }
   ],
   "source": [
    "# not really relevant, but looks cool\n",
    "data.describe()"
   ]
  },
  {
   "cell_type": "code",
   "execution_count": 7,
   "id": "558b6b43",
   "metadata": {
    "execution": {
     "iopub.execute_input": "2022-05-23T05:48:16.548505Z",
     "iopub.status.busy": "2022-05-23T05:48:16.548243Z",
     "iopub.status.idle": "2022-05-23T05:48:16.641820Z",
     "shell.execute_reply": "2022-05-23T05:48:16.640891Z"
    },
    "papermill": {
     "duration": 0.120777,
     "end_time": "2022-05-23T05:48:16.644110",
     "exception": false,
     "start_time": "2022-05-23T05:48:16.523333",
     "status": "completed"
    },
    "tags": []
   },
   "outputs": [
    {
     "data": {
      "text/html": [
       "<div>\n",
       "<style scoped>\n",
       "    .dataframe tbody tr th:only-of-type {\n",
       "        vertical-align: middle;\n",
       "    }\n",
       "\n",
       "    .dataframe tbody tr th {\n",
       "        vertical-align: top;\n",
       "    }\n",
       "\n",
       "    .dataframe thead th {\n",
       "        text-align: right;\n",
       "    }\n",
       "</style>\n",
       "<table border=\"1\" class=\"dataframe\">\n",
       "  <thead>\n",
       "    <tr style=\"text-align: right;\">\n",
       "      <th></th>\n",
       "      <th>date</th>\n",
       "      <th>home_team</th>\n",
       "      <th>away_team</th>\n",
       "      <th>tournament</th>\n",
       "      <th>city</th>\n",
       "      <th>country</th>\n",
       "      <th>neutral</th>\n",
       "    </tr>\n",
       "  </thead>\n",
       "  <tbody>\n",
       "    <tr>\n",
       "      <th>count</th>\n",
       "      <td>42107</td>\n",
       "      <td>42107</td>\n",
       "      <td>42107</td>\n",
       "      <td>42107</td>\n",
       "      <td>42107</td>\n",
       "      <td>42107</td>\n",
       "      <td>42107</td>\n",
       "    </tr>\n",
       "    <tr>\n",
       "      <th>unique</th>\n",
       "      <td>14356</td>\n",
       "      <td>305</td>\n",
       "      <td>301</td>\n",
       "      <td>127</td>\n",
       "      <td>1957</td>\n",
       "      <td>265</td>\n",
       "      <td>2</td>\n",
       "    </tr>\n",
       "    <tr>\n",
       "      <th>top</th>\n",
       "      <td>2012-02-29</td>\n",
       "      <td>Brazil</td>\n",
       "      <td>Uruguay</td>\n",
       "      <td>Friendly</td>\n",
       "      <td>Kuala Lumpur</td>\n",
       "      <td>United States</td>\n",
       "      <td>False</td>\n",
       "    </tr>\n",
       "    <tr>\n",
       "      <th>freq</th>\n",
       "      <td>66</td>\n",
       "      <td>566</td>\n",
       "      <td>480</td>\n",
       "      <td>16501</td>\n",
       "      <td>667</td>\n",
       "      <td>1237</td>\n",
       "      <td>31396</td>\n",
       "    </tr>\n",
       "  </tbody>\n",
       "</table>\n",
       "</div>"
      ],
      "text/plain": [
       "              date home_team away_team tournament          city  \\\n",
       "count        42107     42107     42107      42107         42107   \n",
       "unique       14356       305       301        127          1957   \n",
       "top     2012-02-29    Brazil   Uruguay   Friendly  Kuala Lumpur   \n",
       "freq            66       566       480      16501           667   \n",
       "\n",
       "              country neutral  \n",
       "count           42107   42107  \n",
       "unique            265       2  \n",
       "top     United States   False  \n",
       "freq             1237   31396  "
      ]
     },
     "execution_count": 7,
     "metadata": {},
     "output_type": "execute_result"
    }
   ],
   "source": [
    "# same here\n",
    "data.describe(include=['object', 'bool'])"
   ]
  },
  {
   "cell_type": "code",
   "execution_count": 8,
   "id": "d592eeff",
   "metadata": {
    "execution": {
     "iopub.execute_input": "2022-05-23T05:48:16.694133Z",
     "iopub.status.busy": "2022-05-23T05:48:16.693823Z",
     "iopub.status.idle": "2022-05-23T05:48:16.729020Z",
     "shell.execute_reply": "2022-05-23T05:48:16.728173Z"
    },
    "papermill": {
     "duration": 0.062547,
     "end_time": "2022-05-23T05:48:16.731063",
     "exception": false,
     "start_time": "2022-05-23T05:48:16.668516",
     "status": "completed"
    },
    "tags": []
   },
   "outputs": [
    {
     "data": {
      "text/plain": [
       "date          0\n",
       "home_team     0\n",
       "away_team     0\n",
       "home_score    0\n",
       "away_score    0\n",
       "tournament    0\n",
       "city          0\n",
       "country       0\n",
       "neutral       0\n",
       "dtype: int64"
      ]
     },
     "execution_count": 8,
     "metadata": {},
     "output_type": "execute_result"
    }
   ],
   "source": [
    "# checking if data is more or less full\n",
    "data.isnull().sum()"
   ]
  },
  {
   "cell_type": "markdown",
   "id": "69b799ec",
   "metadata": {
    "papermill": {
     "duration": 0.024744,
     "end_time": "2022-05-23T05:48:16.782260",
     "exception": false,
     "start_time": "2022-05-23T05:48:16.757516",
     "status": "completed"
    },
    "tags": []
   },
   "source": [
    "The data is full!!!"
   ]
  },
  {
   "cell_type": "markdown",
   "id": "e71e8b4d",
   "metadata": {
    "papermill": {
     "duration": 0.024193,
     "end_time": "2022-05-23T05:48:16.830685",
     "exception": false,
     "start_time": "2022-05-23T05:48:16.806492",
     "status": "completed"
    },
    "tags": []
   },
   "source": [
    "Lets see how many friendly matches there are and remove them, because it is just not interesting:"
   ]
  },
  {
   "cell_type": "code",
   "execution_count": 9,
   "id": "f12ed7b1",
   "metadata": {
    "execution": {
     "iopub.execute_input": "2022-05-23T05:48:16.881558Z",
     "iopub.status.busy": "2022-05-23T05:48:16.880827Z",
     "iopub.status.idle": "2022-05-23T05:48:16.894300Z",
     "shell.execute_reply": "2022-05-23T05:48:16.893513Z"
    },
    "papermill": {
     "duration": 0.041147,
     "end_time": "2022-05-23T05:48:16.896344",
     "exception": false,
     "start_time": "2022-05-23T05:48:16.855197",
     "status": "completed"
    },
    "tags": []
   },
   "outputs": [
    {
     "data": {
      "text/plain": [
       "Friendly                                16501\n",
       "FIFA World Cup qualification             7771\n",
       "UEFA Euro qualification                  2594\n",
       "African Cup of Nations qualification     1719\n",
       "FIFA World Cup                            900\n",
       "                                        ...  \n",
       "Cup of Ancient Civilizations                2\n",
       "Copa América qualification                  2\n",
       "AFF Championship qualification              2\n",
       "FIFA 75th Anniversary Cup                   1\n",
       "TIFOCO Tournament                           1\n",
       "Name: tournament, Length: 127, dtype: int64"
      ]
     },
     "execution_count": 9,
     "metadata": {},
     "output_type": "execute_result"
    }
   ],
   "source": [
    "data['tournament'].value_counts()"
   ]
  },
  {
   "cell_type": "code",
   "execution_count": 10,
   "id": "4257ddb1",
   "metadata": {
    "execution": {
     "iopub.execute_input": "2022-05-23T05:48:16.948800Z",
     "iopub.status.busy": "2022-05-23T05:48:16.948244Z",
     "iopub.status.idle": "2022-05-23T05:48:16.972323Z",
     "shell.execute_reply": "2022-05-23T05:48:16.971586Z"
    },
    "papermill": {
     "duration": 0.053029,
     "end_time": "2022-05-23T05:48:16.974612",
     "exception": false,
     "start_time": "2022-05-23T05:48:16.921583",
     "status": "completed"
    },
    "tags": []
   },
   "outputs": [],
   "source": [
    "# removing friendly matches\n",
    "drop_row_index = data[data['tournament'] == 'Friendly'].index\n",
    "data = data.drop(drop_row_index)"
   ]
  },
  {
   "cell_type": "markdown",
   "id": "b51f6102",
   "metadata": {
    "papermill": {
     "duration": 0.024397,
     "end_time": "2022-05-23T05:48:17.024050",
     "exception": false,
     "start_time": "2022-05-23T05:48:16.999653",
     "status": "completed"
    },
    "tags": []
   },
   "source": [
    "Lets remove tournaments that had less than 50 matches:"
   ]
  },
  {
   "cell_type": "code",
   "execution_count": 11,
   "id": "f52537f8",
   "metadata": {
    "execution": {
     "iopub.execute_input": "2022-05-23T05:48:17.075596Z",
     "iopub.status.busy": "2022-05-23T05:48:17.075026Z",
     "iopub.status.idle": "2022-05-23T05:48:17.088606Z",
     "shell.execute_reply": "2022-05-23T05:48:17.087994Z"
    },
    "papermill": {
     "duration": 0.042228,
     "end_time": "2022-05-23T05:48:17.090747",
     "exception": false,
     "start_time": "2022-05-23T05:48:17.048519",
     "status": "completed"
    },
    "tags": []
   },
   "outputs": [],
   "source": [
    "# getting the count of each value\n",
    "value_counts = data['tournament'].value_counts()\n",
    "\n",
    "# selecting the tournaments where less than 50 matches were played\n",
    "tour = value_counts[value_counts < 100].index\n",
    "\n",
    "# keeping rows where the tournament column is not in the tour variable\n",
    "data = data[~data.tournament.isin(tour)]"
   ]
  },
  {
   "cell_type": "markdown",
   "id": "7287a1aa",
   "metadata": {
    "papermill": {
     "duration": 0.024532,
     "end_time": "2022-05-23T05:48:17.140046",
     "exception": false,
     "start_time": "2022-05-23T05:48:17.115514",
     "status": "completed"
    },
    "tags": []
   },
   "source": [
    "Now let us visualize the filtered data and see which tournament was played most:"
   ]
  },
  {
   "cell_type": "code",
   "execution_count": 12,
   "id": "17482939",
   "metadata": {
    "execution": {
     "iopub.execute_input": "2022-05-23T05:48:17.190899Z",
     "iopub.status.busy": "2022-05-23T05:48:17.190622Z",
     "iopub.status.idle": "2022-05-23T05:48:17.837901Z",
     "shell.execute_reply": "2022-05-23T05:48:17.837317Z"
    },
    "papermill": {
     "duration": 0.675528,
     "end_time": "2022-05-23T05:48:17.840317",
     "exception": false,
     "start_time": "2022-05-23T05:48:17.164789",
     "status": "completed"
    },
    "tags": []
   },
   "outputs": [
    {
     "data": {
      "text/plain": [
       "(array([ 0,  1,  2,  3,  4,  5,  6,  7,  8,  9, 10, 11, 12, 13, 14, 15, 16,\n",
       "        17, 18, 19, 20, 21, 22, 23, 24, 25, 26, 27, 28, 29, 30, 31, 32, 33,\n",
       "        34, 35, 36, 37, 38, 39]),\n",
       " [Text(0, 0, 'FIFA World Cup qualification'),\n",
       "  Text(1, 0, 'UEFA Euro qualification'),\n",
       "  Text(2, 0, 'African Cup of Nations qualification'),\n",
       "  Text(3, 0, 'FIFA World Cup'),\n",
       "  Text(4, 0, 'Copa América'),\n",
       "  Text(5, 0, 'African Cup of Nations'),\n",
       "  Text(6, 0, 'AFC Asian Cup qualification'),\n",
       "  Text(7, 0, 'CECAFA Cup'),\n",
       "  Text(8, 0, 'CFU Caribbean Cup qualification'),\n",
       "  Text(9, 0, 'Merdeka Tournament'),\n",
       "  Text(10, 0, 'Gulf Cup'),\n",
       "  Text(11, 0, 'AFC Asian Cup'),\n",
       "  Text(12, 0, 'Gold Cup'),\n",
       "  Text(13, 0, 'Island Games'),\n",
       "  Text(14, 0, 'UEFA Euro'),\n",
       "  Text(15, 0, 'COSAFA Cup'),\n",
       "  Text(16, 0, 'UEFA Nations League'),\n",
       "  Text(17, 0, 'AFF Championship'),\n",
       "  Text(18, 0, 'African Nations Championship'),\n",
       "  Text(19, 0, 'Nordic Championship'),\n",
       "  Text(20, 0, 'British Championship'),\n",
       "  Text(21, 0, 'CFU Caribbean Cup'),\n",
       "  Text(22, 0, 'Amílcar Cabral Cup'),\n",
       "  Text(23, 0, \"King's Cup\"),\n",
       "  Text(24, 0, 'South Pacific Games'),\n",
       "  Text(25, 0, 'CONCACAF Championship'),\n",
       "  Text(26, 0, 'UNCAF Cup'),\n",
       "  Text(27, 0, 'Korea Cup'),\n",
       "  Text(28, 0, 'CONCACAF Championship qualification'),\n",
       "  Text(29, 0, 'SAFF Cup'),\n",
       "  Text(30, 0, 'Arab Cup'),\n",
       "  Text(31, 0, 'Confederations Cup'),\n",
       "  Text(32, 0, 'CCCF Championship'),\n",
       "  Text(33, 0, 'EAFF Championship'),\n",
       "  Text(34, 0, 'CONCACAF Nations League'),\n",
       "  Text(35, 0, 'International Cup'),\n",
       "  Text(36, 0, 'CONIFA World Football Cup'),\n",
       "  Text(37, 0, 'Windward Islands Tournament'),\n",
       "  Text(38, 0, 'Oceania Nations Cup'),\n",
       "  Text(39, 0, 'AFC Challenge Cup')])"
      ]
     },
     "execution_count": 12,
     "metadata": {},
     "output_type": "execute_result"
    },
    {
     "data": {
      "image/png": "[encoded data removed]",
      "text/plain": [
       "<Figure size 1080x720 with 1 Axes>"
      ]
     },
     "metadata": {
      "needs_background": "light"
     },
     "output_type": "display_data"
    }
   ],
   "source": [
    "plt.figure(figsize = (15, 10))\n",
    "sns.countplot(x=\"tournament\", data = data, order = data['tournament'].value_counts().index)\n",
    "plt.xticks(rotation = 90)"
   ]
  },
  {
   "cell_type": "markdown",
   "id": "1827fc7a",
   "metadata": {
    "papermill": {
     "duration": 0.027519,
     "end_time": "2022-05-23T05:48:17.896131",
     "exception": false,
     "start_time": "2022-05-23T05:48:17.868612",
     "status": "completed"
    },
    "tags": []
   },
   "source": [
    "Obviously, the most played tournaments are the FIFA World Cup and the UEFA Champions league, followed by the African Cup of Nations (qualifications) and so on."
   ]
  },
  {
   "cell_type": "markdown",
   "id": "731c46de",
   "metadata": {
    "papermill": {
     "duration": 0.026991,
     "end_time": "2022-05-23T05:48:17.950639",
     "exception": false,
     "start_time": "2022-05-23T05:48:17.923648",
     "status": "completed"
    },
    "tags": []
   },
   "source": [
    "I also wanted to know how many games were actually \"fair\", i.e how many were played on neutral territory (it plays role):"
   ]
  },
  {
   "cell_type": "code",
   "execution_count": 13,
   "id": "ca67a3ed",
   "metadata": {
    "execution": {
     "iopub.execute_input": "2022-05-23T05:48:18.008394Z",
     "iopub.status.busy": "2022-05-23T05:48:18.007861Z",
     "iopub.status.idle": "2022-05-23T05:48:18.014395Z",
     "shell.execute_reply": "2022-05-23T05:48:18.013828Z"
    },
    "papermill": {
     "duration": 0.037603,
     "end_time": "2022-05-23T05:48:18.016266",
     "exception": false,
     "start_time": "2022-05-23T05:48:17.978663",
     "status": "completed"
    },
    "tags": []
   },
   "outputs": [
    {
     "data": {
      "text/plain": [
       "False    16025\n",
       "True      7351\n",
       "Name: neutral, dtype: int64"
      ]
     },
     "execution_count": 13,
     "metadata": {},
     "output_type": "execute_result"
    }
   ],
   "source": [
    "data['neutral'].value_counts()"
   ]
  },
  {
   "cell_type": "markdown",
   "id": "76cdbd95",
   "metadata": {
    "papermill": {
     "duration": 0.028064,
     "end_time": "2022-05-23T05:48:18.072439",
     "exception": false,
     "start_time": "2022-05-23T05:48:18.044375",
     "status": "completed"
    },
    "tags": []
   },
   "source": [
    "7351, not bad imho"
   ]
  },
  {
   "cell_type": "markdown",
   "id": "11417962",
   "metadata": {
    "papermill": {
     "duration": 0.027562,
     "end_time": "2022-05-23T05:48:18.128182",
     "exception": false,
     "start_time": "2022-05-23T05:48:18.100620",
     "status": "completed"
    },
    "tags": []
   },
   "source": [
    "Now let us take a look at our second dataset – shootouts.csv. I just want to now the country that won most."
   ]
  },
  {
   "cell_type": "code",
   "execution_count": 14,
   "id": "e9269a35",
   "metadata": {
    "execution": {
     "iopub.execute_input": "2022-05-23T05:48:18.186005Z",
     "iopub.status.busy": "2022-05-23T05:48:18.185489Z",
     "iopub.status.idle": "2022-05-23T05:48:18.205187Z",
     "shell.execute_reply": "2022-05-23T05:48:18.204355Z"
    },
    "papermill": {
     "duration": 0.051428,
     "end_time": "2022-05-23T05:48:18.207305",
     "exception": false,
     "start_time": "2022-05-23T05:48:18.155877",
     "status": "completed"
    },
    "tags": []
   },
   "outputs": [
    {
     "data": {
      "text/html": [
       "<div>\n",
       "<style scoped>\n",
       "    .dataframe tbody tr th:only-of-type {\n",
       "        vertical-align: middle;\n",
       "    }\n",
       "\n",
       "    .dataframe tbody tr th {\n",
       "        vertical-align: top;\n",
       "    }\n",
       "\n",
       "    .dataframe thead th {\n",
       "        text-align: right;\n",
       "    }\n",
       "</style>\n",
       "<table border=\"1\" class=\"dataframe\">\n",
       "  <thead>\n",
       "    <tr style=\"text-align: right;\">\n",
       "      <th></th>\n",
       "      <th>date</th>\n",
       "      <th>home_team</th>\n",
       "      <th>away_team</th>\n",
       "      <th>winner</th>\n",
       "    </tr>\n",
       "  </thead>\n",
       "  <tbody>\n",
       "    <tr>\n",
       "      <th>0</th>\n",
       "      <td>1967-08-22</td>\n",
       "      <td>India</td>\n",
       "      <td>Taiwan</td>\n",
       "      <td>Taiwan</td>\n",
       "    </tr>\n",
       "    <tr>\n",
       "      <th>1</th>\n",
       "      <td>1971-11-14</td>\n",
       "      <td>South Korea</td>\n",
       "      <td>Vietnam Republic</td>\n",
       "      <td>South Korea</td>\n",
       "    </tr>\n",
       "    <tr>\n",
       "      <th>2</th>\n",
       "      <td>1972-05-17</td>\n",
       "      <td>Thailand</td>\n",
       "      <td>South Korea</td>\n",
       "      <td>South Korea</td>\n",
       "    </tr>\n",
       "    <tr>\n",
       "      <th>3</th>\n",
       "      <td>1972-05-19</td>\n",
       "      <td>Thailand</td>\n",
       "      <td>Cambodia</td>\n",
       "      <td>Thailand</td>\n",
       "    </tr>\n",
       "    <tr>\n",
       "      <th>4</th>\n",
       "      <td>1973-07-26</td>\n",
       "      <td>Malaysia</td>\n",
       "      <td>Kuwait</td>\n",
       "      <td>Malaysia</td>\n",
       "    </tr>\n",
       "  </tbody>\n",
       "</table>\n",
       "</div>"
      ],
      "text/plain": [
       "         date    home_team         away_team       winner\n",
       "0  1967-08-22        India            Taiwan       Taiwan\n",
       "1  1971-11-14  South Korea  Vietnam Republic  South Korea\n",
       "2  1972-05-17     Thailand       South Korea  South Korea\n",
       "3  1972-05-19     Thailand          Cambodia     Thailand\n",
       "4  1973-07-26     Malaysia            Kuwait     Malaysia"
      ]
     },
     "execution_count": 14,
     "metadata": {},
     "output_type": "execute_result"
    }
   ],
   "source": [
    "data2 = pd.read_csv('/kaggle/input/international-football-results-from-1872-to-2017/shootouts.csv')\n",
    "data2.head()"
   ]
  },
  {
   "cell_type": "code",
   "execution_count": 15,
   "id": "56237d32",
   "metadata": {
    "execution": {
     "iopub.execute_input": "2022-05-23T05:48:18.265766Z",
     "iopub.status.busy": "2022-05-23T05:48:18.265352Z",
     "iopub.status.idle": "2022-05-23T05:48:18.273643Z",
     "shell.execute_reply": "2022-05-23T05:48:18.272543Z"
    },
    "papermill": {
     "duration": 0.039971,
     "end_time": "2022-05-23T05:48:18.275682",
     "exception": false,
     "start_time": "2022-05-23T05:48:18.235711",
     "status": "completed"
    },
    "tags": []
   },
   "outputs": [
    {
     "data": {
      "text/plain": [
       "Egypt                13\n",
       "South Korea          13\n",
       "Argentina            11\n",
       "South Africa         10\n",
       "Zambia               10\n",
       "                     ..\n",
       "Libya                 1\n",
       "Slovenia              1\n",
       "Belarus               1\n",
       "Serbia                1\n",
       "Equatorial Guinea     1\n",
       "Name: winner, Length: 131, dtype: int64"
      ]
     },
     "execution_count": 15,
     "metadata": {},
     "output_type": "execute_result"
    }
   ],
   "source": [
    "data2['winner'].value_counts()"
   ]
  },
  {
   "cell_type": "code",
   "execution_count": null,
   "id": "fb6d4e98",
   "metadata": {
    "papermill": {
     "duration": 0.02897,
     "end_time": "2022-05-23T05:48:18.333617",
     "exception": false,
     "start_time": "2022-05-23T05:48:18.304647",
     "status": "completed"
    },
    "tags": []
   },
   "outputs": [],
   "source": []
  }
 ],
 "metadata": {
  "kernelspec": {
   "display_name": "Python 3",
   "language": "python",
   "name": "python3"
  },
  "language_info": {
   "codemirror_mode": {
    "name": "ipython",
    "version": 3
   },
   "file_extension": ".py",
   "mimetype": "text/x-python",
   "name": "python",
   "nbconvert_exporter": "python",
   "pygments_lexer": "ipython3",
   "version": "3.7.12"
  },
  "papermill": {
   "default_parameters": {},
   "duration": 14.495521,
   "end_time": "2022-05-23T05:48:19.082671",
   "environment_variables": {},
   "exception": null,
   "input_path": "__notebook__.ipynb",
   "output_path": "__notebook__.ipynb",
   "parameters": {},
   "start_time": "2022-05-23T05:48:04.587150",
   "version": "2.3.4"
  }
 },
 "nbformat": 4,
 "nbformat_minor": 5
}
